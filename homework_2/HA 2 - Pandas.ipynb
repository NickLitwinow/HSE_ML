{
 "nbformat": 4,
 "nbformat_minor": 0,
 "metadata": {
  "colab": {
   "provenance": []
  },
  "kernelspec": {
   "name": "python3",
   "display_name": "Python 3 (ipykernel)",
   "language": "python"
  },
  "language_info": {
   "name": "python"
  }
 },
 "cells": [
  {
   "cell_type": "markdown",
   "metadata": {
    "id": "kmR0IBowrBPV"
   },
   "source": [
    "# Machine Learning\n",
    "\n",
    "## HSE, 2024-25"
   ]
  },
  {
   "cell_type": "markdown",
   "metadata": {
    "id": "EUirCNdvd-1A"
   },
   "source": [
    "### Home Assignment #2. Pandas. Matplotlib"
   ]
  },
  {
   "cell_type": "markdown",
   "metadata": {
    "id": "m86CXebYd-1H"
   },
   "source": "The assignment was completed by: _(Литвинов Никита Антонович)_"
  },
  {
   "cell_type": "markdown",
   "metadata": {
    "id": "kqVyveO4FLxx"
   },
   "source": [
    "### General information"
   ]
  },
  {
   "cell_type": "markdown",
   "metadata": {
    "id": "2A0wmBWwFLxx"
   },
   "source": [
    "__Publication date:__ 15.02.2025\n",
    "\n",
    "__Deadline:__ 04:00 28.02.2025"
   ]
  },
  {
   "cell_type": "markdown",
   "metadata": {
    "id": "qK8Ari9eFLxz"
   },
   "source": [
    "### Grading and penalties\n",
    "\n",
    "Each task is assessed with 3 points.\n",
    "\n",
    "The grade for HA is calculated according to the following formula:\n",
    "\n",
    "$$\n",
    "s_{\\text{pandas}} \\times 10/48 ,\n",
    "$$\n",
    "\n",
    "where $s_{\\text{pandas}}$  — is the number of points you have scored in total on the tasks.\n",
    "\n",
    "Submitting a task late will incur a penalty of 1 point per day on the final grade for the task, but the delay cannot be more than 3 days.\n",
    "\n",
    "**Note:** This homework assignment contains several tasks that may earn bonus points. Bonus points are added to the regular points, and it may turn out that your final score will be greater than 10. In this case, this will be your score. So, for this HW **you can** get more than 10"
   ]
  },
  {
   "cell_type": "markdown",
   "metadata": {
    "id": "nEGThfK6FLx0"
   },
   "source": [
    "__WARNING!__ Homework must be completed independently. Assistance from classmates or third parties in solving homework assignments is not permitted. \"Similar\" solutions are considered plagiarism, and all involved students—including those who copied—will receive no credit for it. The use of generative models (such as ChatGPT and others) in solving homework assignments, beyond using them for reference and educational purposes, to generate assignment code, is considered plagiarism, and such homework will be graded as 0 points."
   ]
  },
  {
   "cell_type": "markdown",
   "metadata": {
    "id": "3q_sAVQZiPXS"
   },
   "source": [
    "### Submission format"
   ]
  },
  {
   "cell_type": "markdown",
   "metadata": {
    "id": "RzsgTAPYiPXa"
   },
   "source": [
    "You upload your solution using the link provided in the telegram channel. You need to upload a file with the extension .ipynb (Python notebook)"
   ]
  },
  {
   "cell_type": "markdown",
   "metadata": {
    "id": "Sd_-lxmCiPXa"
   },
   "source": [
    "### About the assignment"
   ]
  },
  {
   "cell_type": "markdown",
   "metadata": {
    "id": "NXNpYAFdFLxz"
   },
   "source": [
    "In this homework assignment you will practice in using pandas and matplotlib libraries!"
   ]
  },
  {
   "cell_type": "code",
   "metadata": {
    "collapsed": true,
    "id": "4gsWSgTIFLx1",
    "ExecuteTime": {
     "end_time": "2025-02-28T14:02:49.710118Z",
     "start_time": "2025-02-28T14:02:49.707004Z"
    }
   },
   "source": [
    "import matplotlib.pyplot as plt\n",
    "import seaborn as sns\n",
    "import pandas as pd\n",
    "import numpy as np\n",
    "\n",
    "%matplotlib inline"
   ],
   "outputs": [],
   "execution_count": 50
  },
  {
   "cell_type": "markdown",
   "metadata": {
    "id": "ApiPWJygFLx2"
   },
   "source": [
    "Please note that in almost all tasks you will need to write some text in the form of a conclusion/result/some kind of summary. Please do not be lazy and write your conclusions in ***detail***, a significant part of the points will be awarded specifically for conclusions, since they are really important in data analysis. Thus, answer any task formulated in the form of a question with text, supporting your words with written and executed code. Write the text of your conclusions/comments in separate cells using the text editor Jupyter Notebook/Google Colab, if necessary, use *highlighting* tools.\n",
    "\n",
    "While solving problems where you need to do some kind of filter, slice, selection, or other action with data, it is prohibited to use loops (`for`, `while`) and the `if` operator.\n",
    "\n",
    "Also, in some tasks you will be required to construct graphs. Each constructed graph must be beautifully designed - for this you need to at least indicate its name, and also note what is shown on each of the axes. Please do not neglect the design, since this is also assessed in this HW.\n",
    "\n",
    "*Functions that may be useful when designing charts: `.show()`, `.title()`, `.xlabel()`, `.ylabel()` and others*"
   ]
  },
  {
   "cell_type": "markdown",
   "metadata": {
    "id": "dGrzCZkIZKge"
   },
   "source": [
    "### 1"
   ]
  },
  {
   "cell_type": "markdown",
   "source": [
    "In this homework assignment, you will work with passenger data from the Titanic, which we briefly reviewed earlier in the lesson.\n",
    "\n",
    "A description of the data, as well as the data itself (where it should be downloaded from) can be found at the following link:\n",
    "\n",
    "https://www.kaggle.com/c/titanic/data"
   ],
   "metadata": {
    "id": "zGH53krziiVU"
   }
  },
  {
   "cell_type": "markdown",
   "metadata": {
    "id": "rQyUvNgkZKge"
   },
   "source": [
    "Open the data file (\"train.csv\") in your notebook. What size is the table? Print the first 5 and last 5 lines."
   ]
  },
  {
   "cell_type": "code",
   "metadata": {
    "collapsed": true,
    "id": "nUpM5eHoZKgf",
    "ExecuteTime": {
     "end_time": "2025-02-28T14:21:36.550388Z",
     "start_time": "2025-02-28T14:21:36.522498Z"
    }
   },
   "source": "df = pd.read_csv(\"./train.csv\")",
   "outputs": [],
   "execution_count": 74
  },
  {
   "metadata": {
    "ExecuteTime": {
     "end_time": "2025-02-28T00:33:26.666663Z",
     "start_time": "2025-02-28T00:33:26.660751Z"
    }
   },
   "cell_type": "code",
   "source": [
    "print(\"Размер таблицы:\", df.shape)\n",
    "print(\"Первые 5 строк:\\n\", df.head())\n",
    "print(\"Последние 5 строчек:\\n\", df.tail())"
   ],
   "outputs": [
    {
     "name": "stdout",
     "output_type": "stream",
     "text": [
      "Размер таблицы: (891, 12)\n",
      "Первые 5 строк:\n",
      "    PassengerId  Survived  Pclass  \\\n",
      "0            1         0       3   \n",
      "1            2         1       1   \n",
      "2            3         1       3   \n",
      "3            4         1       1   \n",
      "4            5         0       3   \n",
      "\n",
      "                                                Name     Sex   Age  SibSp  \\\n",
      "0                            Braund, Mr. Owen Harris    male  22.0      1   \n",
      "1  Cumings, Mrs. John Bradley (Florence Briggs Th...  female  38.0      1   \n",
      "2                             Heikkinen, Miss. Laina  female  26.0      0   \n",
      "3       Futrelle, Mrs. Jacques Heath (Lily May Peel)  female  35.0      1   \n",
      "4                           Allen, Mr. William Henry    male  35.0      0   \n",
      "\n",
      "   Parch            Ticket     Fare Cabin Embarked  \n",
      "0      0         A/5 21171   7.2500   NaN        S  \n",
      "1      0          PC 17599  71.2833   C85        C  \n",
      "2      0  STON/O2. 3101282   7.9250   NaN        S  \n",
      "3      0            113803  53.1000  C123        S  \n",
      "4      0            373450   8.0500   NaN        S  \n",
      "Последние 5 строчек:\n",
      "      PassengerId  Survived  Pclass                                      Name  \\\n",
      "886          887         0       2                     Montvila, Rev. Juozas   \n",
      "887          888         1       1              Graham, Miss. Margaret Edith   \n",
      "888          889         0       3  Johnston, Miss. Catherine Helen \"Carrie\"   \n",
      "889          890         1       1                     Behr, Mr. Karl Howell   \n",
      "890          891         0       3                       Dooley, Mr. Patrick   \n",
      "\n",
      "        Sex   Age  SibSp  Parch      Ticket   Fare Cabin Embarked  \n",
      "886    male  27.0      0      0      211536  13.00   NaN        S  \n",
      "887  female  19.0      0      0      112053  30.00   B42        S  \n",
      "888  female   NaN      1      2  W./C. 6607  23.45   NaN        S  \n",
      "889    male  26.0      0      0      111369  30.00  C148        C  \n",
      "890    male  32.0      0      0      370376   7.75   NaN        Q  \n"
     ]
    }
   ],
   "execution_count": 4
  },
  {
   "cell_type": "markdown",
   "source": [
    "### 2"
   ],
   "metadata": {
    "id": "8f1_cl1Ojg9r"
   }
  },
  {
   "cell_type": "markdown",
   "source": [
    "For each feature in the data, indicate the type of this feature."
   ],
   "metadata": {
    "id": "hOXMwdDGlAaa"
   }
  },
  {
   "cell_type": "markdown",
   "source": "Просто используем df.dtypes чтобы точно понять типы каждой колонки",
   "metadata": {
    "id": "2einwDe8lVry"
   }
  },
  {
   "metadata": {
    "ExecuteTime": {
     "end_time": "2025-02-28T00:34:18.871404Z",
     "start_time": "2025-02-28T00:34:18.864635Z"
    }
   },
   "cell_type": "code",
   "source": "df.dtypes",
   "outputs": [
    {
     "data": {
      "text/plain": [
       "PassengerId      int64\n",
       "Survived         int64\n",
       "Pclass           int64\n",
       "Name            object\n",
       "Sex             object\n",
       "Age            float64\n",
       "SibSp            int64\n",
       "Parch            int64\n",
       "Ticket          object\n",
       "Fare           float64\n",
       "Cabin           object\n",
       "Embarked        object\n",
       "dtype: object"
      ]
     },
     "execution_count": 5,
     "metadata": {},
     "output_type": "execute_result"
    }
   ],
   "execution_count": 5
  },
  {
   "cell_type": "markdown",
   "source": [
    "### 3"
   ],
   "metadata": {
    "id": "FxJDNYhMljdc"
   }
  },
  {
   "cell_type": "markdown",
   "source": [
    "Come up with three data analysis problems that could be solved for this dataset:\n",
    "\n",
    "1. The regression problem - in other words, predicting a certain integer result for each object\n",
    "2. The task of classification - in other words, assigning each object to one of two or more predetermined classes (groups)\n",
    "3. The task of clustering - in other words, dividing all objects into an unknown number of groups based on the principle of their similarity to each other\n",
    "\n",
    "*You can read more about what regression, classification, and clustering problems are, for example, on Wikipedia. This is also described in simple language and with a specific example in this [article](https://habr.com/ru/company/simbirsoft/blog/565396/) (at the beginning)*"
   ],
   "metadata": {
    "id": "UVDua9fQllw6"
   }
  },
  {
   "cell_type": "markdown",
   "source": [
    "- Регрессия: Определить стоимость билета\n",
    "- Классификация: Определить выживет ли пассажир\n",
    "- Кластеризация: Определить группы пассажиров (соц статус к примеру)"
   ],
   "metadata": {
    "id": "2hrANQDyFYAK"
   }
  },
  {
   "cell_type": "markdown",
   "metadata": {
    "id": "w4CScFwLZKgg"
   },
   "source": [
    "### 4"
   ]
  },
  {
   "cell_type": "markdown",
   "metadata": {
    "id": "eQLEQXd-ZKgg"
   },
   "source": [
    "What is the proportion of passengers who survived the catastrophe? What is the proportion of men and women among the survivors?"
   ]
  },
  {
   "cell_type": "code",
   "metadata": {
    "collapsed": true,
    "id": "-uzVP9fTZKgg",
    "ExecuteTime": {
     "end_time": "2025-02-28T00:41:06.062889Z",
     "start_time": "2025-02-28T00:41:06.056333Z"
    }
   },
   "source": [
    "print(\"Пропорция для выживших пассажиров:\\n\", df['Survived'].value_counts(normalize=True))\n",
    "print(\"Пропорция м\\ж среди выживших:\\n\", df[df['Survived'] == 1]['Sex'].value_counts(normalize=True))"
   ],
   "outputs": [
    {
     "name": "stdout",
     "output_type": "stream",
     "text": [
      "Пропорция для выживших пассажиров:\n",
      " Survived\n",
      "0    0.616162\n",
      "1    0.383838\n",
      "Name: proportion, dtype: float64\n",
      "Пропорция м\\ж среди выживших:\n",
      " Sex\n",
      "female    0.681287\n",
      "male      0.318713\n",
      "Name: proportion, dtype: float64\n"
     ]
    }
   ],
   "execution_count": 8
  },
  {
   "cell_type": "markdown",
   "metadata": {
    "id": "3Y8ILyzlZKgg"
   },
   "source": [
    "### 5"
   ]
  },
  {
   "cell_type": "markdown",
   "metadata": {
    "id": "nEfsxhQUZKgg"
   },
   "source": [
    "How many passengers were traveling in each class? Who were more in the most crowded class - men or women?"
   ]
  },
  {
   "cell_type": "code",
   "metadata": {
    "collapsed": true,
    "id": "kQVTfRKFZKgg",
    "ExecuteTime": {
     "end_time": "2025-02-28T00:45:47.787901Z",
     "start_time": "2025-02-28T00:45:47.776290Z"
    }
   },
   "source": [
    "p_count = df['Pclass'].value_counts()\n",
    "print(\"Кол-во пассажиров в каждом классе:\\n\", p_count)\n",
    "print(\"Класс где больше всего людей:\\n\", p_count.idxmax()) # Ответ 3, что не удивительно – эконом\n",
    "print(\"Гендерное распределение в самом большом классе:\\n\", df[df['Pclass'] == p_count.idxmax()]['Sex'].value_counts())"
   ],
   "outputs": [
    {
     "name": "stdout",
     "output_type": "stream",
     "text": [
      "Кол-во пассажиров в каждом классе:\n",
      " Pclass\n",
      "3    491\n",
      "1    216\n",
      "2    184\n",
      "Name: count, dtype: int64\n",
      "Класс где больше всего людей:\n",
      " 3\n",
      "Гендерное распределение в самом большом классе:\n",
      " Sex\n",
      "male      347\n",
      "female    144\n",
      "Name: count, dtype: int64\n"
     ]
    }
   ],
   "execution_count": 12
  },
  {
   "cell_type": "markdown",
   "metadata": {
    "id": "d9G-K_H0ZKgh"
   },
   "source": [
    "### 6"
   ]
  },
  {
   "cell_type": "markdown",
   "metadata": {
    "id": "gM69Tv9sZKgh"
   },
   "source": [
    "Print the minimum, average and maximum amount of money that passengers paid for travel. Repeat your actions only for those passengers who boarded the ship in Southampton. Print histograms showing the distribution of ticket prices depending on the boarding location. What can you say based on the results you get?"
   ]
  },
  {
   "cell_type": "code",
   "metadata": {
    "collapsed": true,
    "id": "JNyWyX1pZKgh",
    "ExecuteTime": {
     "end_time": "2025-02-28T13:36:06.173091Z",
     "start_time": "2025-02-28T13:36:06.159653Z"
    }
   },
   "source": [
    "# Собираем общую стату по полю Fare\n",
    "print(\"Min:\", df['Fare'].min())\n",
    "print(\"Mean:\", df['Fare'].mean())\n",
    "print(\"Max:\", df['Fare'].max())"
   ],
   "outputs": [
    {
     "name": "stdout",
     "output_type": "stream",
     "text": [
      "Min: 0.0\n",
      "Mean: 32.204207968574636\n",
      "Max: 512.3292\n"
     ]
    }
   ],
   "execution_count": 15
  },
  {
   "metadata": {
    "ExecuteTime": {
     "end_time": "2025-02-28T13:36:58.320263Z",
     "start_time": "2025-02-28T13:36:58.314663Z"
    }
   },
   "cell_type": "code",
   "source": [
    "# Собираем стату для пассажиров, севших в Саутгемптоне\n",
    "df_s = df[df['Embarked'] == 'S']\n",
    "print(\"Min:\", df_s['Fare'].min())\n",
    "print(\"Mean:\", df_s['Fare'].mean())\n",
    "print(\"Max:\", df_s['Fare'].max())"
   ],
   "outputs": [
    {
     "name": "stdout",
     "output_type": "stream",
     "text": [
      "Min: 0.0\n",
      "Mean: 27.079811801242233\n",
      "Max: 263.0\n"
     ]
    }
   ],
   "execution_count": 19
  },
  {
   "metadata": {
    "ExecuteTime": {
     "end_time": "2025-02-28T13:38:44.595669Z",
     "start_time": "2025-02-28T13:38:44.447252Z"
    }
   },
   "cell_type": "code",
   "source": [
    "# И строим гистограммы для поля Fare в отношении портов посадки\n",
    "df['Fare'].hist(by=df['Embarked'], bins=20, figsize=(10, 4))\n",
    "plt.suptitle(\"Гистограммы Fare по портам посадки\")\n",
    "plt.show()"
   ],
   "outputs": [
    {
     "data": {
      "text/plain": [
       "<Figure size 1000x400 with 4 Axes>"
      ],
      "image/png": "[encoded data removed]"
     },
     "metadata": {},
     "output_type": "display_data"
    }
   ],
   "execution_count": 22
  },
  {
   "metadata": {
    "ExecuteTime": {
     "end_time": "2025-02-28T13:45:54.862891Z",
     "start_time": "2025-02-28T13:45:54.858035Z"
    }
   },
   "cell_type": "code",
   "source": "# Можно увидеть наглядно, что самые дорогие билеты в городе S, самые дешевые в городе Q, город C между ними.",
   "outputs": [],
   "execution_count": 28
  },
  {
   "cell_type": "markdown",
   "metadata": {
    "id": "VQ_ocDkOZKgh"
   },
   "source": [
    "### 7"
   ]
  },
  {
   "cell_type": "markdown",
   "metadata": {
    "id": "Z92wE5uJZKgh"
   },
   "source": [
    "Do all the features provide useful information? Why? Get rid of unnecessary columns. Justify your choice."
   ]
  },
  {
   "cell_type": "code",
   "metadata": {
    "collapsed": true,
    "id": "f79iiwhuZKgh",
    "ExecuteTime": {
     "end_time": "2025-02-28T13:41:14.949766Z",
     "start_time": "2025-02-28T13:41:14.929951Z"
    }
   },
   "source": [
    "df_clean = df.drop(['PassengerId', 'Name', 'Ticket', 'Cabin'], axis=1)\n",
    "# Удаляем PassengerId тк это просто поле id\n",
    "# Остальные поля Name, Ticket, Cabin дропаем тк содержат слишком специфичную информацию\n",
    "print(\"Оставшиеся столбцы после удаления ненужных:\")\n",
    "print(df_clean.columns)"
   ],
   "outputs": [
    {
     "name": "stdout",
     "output_type": "stream",
     "text": [
      "Оставшиеся столбцы после удаления ненужных:\n",
      "Index(['Survived', 'Pclass', 'Sex', 'Age', 'SibSp', 'Parch', 'Fare',\n",
      "       'Embarked'],\n",
      "      dtype='object')\n"
     ]
    }
   ],
   "execution_count": 23
  },
  {
   "cell_type": "markdown",
   "metadata": {
    "id": "L5KAIFPBZKgi"
   },
   "source": [
    "### 8"
   ]
  },
  {
   "cell_type": "markdown",
   "metadata": {
    "id": "Tv3QepvHZKgi"
   },
   "source": [
    "Are there any gaps in the data? If yes, in which columns? How many gaps are there in each of them?"
   ]
  },
  {
   "cell_type": "code",
   "metadata": {
    "collapsed": true,
    "id": "wgP23TD3ZKgi",
    "ExecuteTime": {
     "end_time": "2025-02-28T13:43:40.785361Z",
     "start_time": "2025-02-28T13:43:40.772505Z"
    }
   },
   "source": [
    "print(\"Количество пропущенных значений по столбцам:\\n\", df.isnull().sum())\n",
    "# Пропущенные значения в столбцах (Age, Cabin, Embarked) с пропусками (177, 687, 2) соответственно"
   ],
   "outputs": [
    {
     "name": "stdout",
     "output_type": "stream",
     "text": [
      "Количество пропущенных значений по столбцам:\n",
      " PassengerId      0\n",
      "Survived         0\n",
      "Pclass           0\n",
      "Name             0\n",
      "Sex              0\n",
      "Age            177\n",
      "SibSp            0\n",
      "Parch            0\n",
      "Ticket           0\n",
      "Fare             0\n",
      "Cabin          687\n",
      "Embarked         2\n",
      "dtype: int64\n"
     ]
    }
   ],
   "execution_count": 27
  },
  {
   "cell_type": "markdown",
   "metadata": {
    "id": "qGro4dvuZKgi"
   },
   "source": [
    "### 9"
   ]
  },
  {
   "cell_type": "markdown",
   "metadata": {
    "id": "SgT8Zb9gZKgi"
   },
   "source": [
    "Think about how to fill in the gaps in each column and perform it. Check that there are no gaps left anywhere."
   ]
  },
  {
   "cell_type": "code",
   "metadata": {
    "collapsed": true,
    "id": "1XaVOZf0ZKgi",
    "ExecuteTime": {
     "end_time": "2025-02-28T13:54:26.857713Z",
     "start_time": "2025-02-28T13:54:26.853053Z"
    }
   },
   "source": [
    "df['Age'] = df['Age'].fillna(df['Age'].median())\n",
    "df['Embarked'] = df['Embarked'].fillna(df['Embarked'].mode()[0])\n",
    "df['Cabin'] = df['Cabin'].fillna('null')\n",
    "\n",
    "print(\"Пропущенные значения после заполнения:\\n\", df.isnull().sum())"
   ],
   "outputs": [
    {
     "name": "stdout",
     "output_type": "stream",
     "text": [
      "Пропущенные значения после заполнения:\n",
      " PassengerId    0\n",
      "Survived       0\n",
      "Pclass         0\n",
      "Name           0\n",
      "Sex            0\n",
      "Age            0\n",
      "SibSp          0\n",
      "Parch          0\n",
      "Ticket         0\n",
      "Fare           0\n",
      "Cabin          0\n",
      "Embarked       0\n",
      "dtype: int64\n"
     ]
    }
   ],
   "execution_count": 39
  },
  {
   "cell_type": "markdown",
   "metadata": {
    "id": "sTOh2jQ2ZKgj"
   },
   "source": [
    "### 10"
   ]
  },
  {
   "cell_type": "markdown",
   "metadata": {
    "id": "961UOK2CZKgj"
   },
   "source": [
    "Calculate how strongly the price of a ticket and the age of passengers correlate with each other. Also check the presence of this connection visually (building a [scatter plot](https://en.wikipedia.org/wiki/Scatter_plot) will help you with this). What conclusions can be drawn?"
   ]
  },
  {
   "cell_type": "code",
   "metadata": {
    "collapsed": true,
    "id": "9T42qGrkZKgj",
    "ExecuteTime": {
     "end_time": "2025-02-28T14:03:57.079757Z",
     "start_time": "2025-02-28T14:03:56.994255Z"
    }
   },
   "source": [
    "print(\"Коэффициент корреляции между Fare и Age:\", df['Fare'].corr(df['Age']))\n",
    "plt.figure(figsize=(6, 4))\n",
    "plt.scatter(df['Age'], df['Fare'], alpha=0.5)\n",
    "plt.title(\"Зависимость Fare от Age\")\n",
    "plt.xlabel(\"Age\")\n",
    "plt.ylabel(\"Fare\")\n",
    "plt.show()\n",
    "\n",
    "# Можно прекрасно увдеть, что корреляция отсутствует, те fare и age не зависят друг от друга и изменение одного не приведет к изменению другого"
   ],
   "outputs": [
    {
     "name": "stdout",
     "output_type": "stream",
     "text": [
      "Коэффициент корреляции между Fare и Age: 0.09668842218036487\n"
     ]
    },
    {
     "data": {
      "text/plain": [
       "<Figure size 600x400 with 1 Axes>"
      ],
      "image/png": "[encoded data removed]"
     },
     "metadata": {},
     "output_type": "display_data"
    }
   ],
   "execution_count": 51
  },
  {
   "metadata": {},
   "cell_type": "code",
   "outputs": [],
   "execution_count": null,
   "source": ""
  },
  {
   "cell_type": "markdown",
   "metadata": {
    "id": "mwGBdBzhZKgj"
   },
   "source": [
    "### 11"
   ]
  },
  {
   "cell_type": "markdown",
   "metadata": {
    "id": "AmYX1S_HZKgj"
   },
   "source": [
    "Is it true that passengers with more expensive tickets survived more often? Is there a dependence of survival on class? Give reasons for your answer!"
   ]
  },
  {
   "cell_type": "code",
   "metadata": {
    "collapsed": true,
    "id": "xjWnCLgpZKgj",
    "ExecuteTime": {
     "end_time": "2025-02-28T14:03:59.451684Z",
     "start_time": "2025-02-28T14:03:59.336713Z"
    }
   },
   "source": [
    "# Сравниваем среднюю стоимость билета для выживших и невыживших\n",
    "print(\"Средний Fare по группам:\\n\", df.groupby('Survived')['Fare'].mean())\n",
    "\n",
    "# Анализ выживаемости в зависимости от класса\n",
    "print(\"Вероятность выживания по классам:\\n\", df.groupby('Pclass')['Survived'].mean())\n",
    "\n",
    "# Визуализация зависимости выживаемости от класса\n",
    "plt.figure(figsize=(8, 4))\n",
    "sns.barplot(x='Pclass', y='Survived', data=df)\n",
    "plt.title(\"Вероятность выживания по классам\")\n",
    "plt.xlabel(\"Класс\")\n",
    "plt.ylabel(\"Выживаемость\")\n",
    "plt.show()\n",
    "\n",
    "# По стате и графику наглядно видно, что клас прямо влияет на выживаемость\n",
    "# Чем выше клас тем выше выживаемость, даже вспоминая историю с титаником, то помнится что сначала на лодки сажали первый класс, а там по убывающей. Также от пола пассажира выживаемость тоже сказывается."
   ],
   "outputs": [
    {
     "name": "stdout",
     "output_type": "stream",
     "text": [
      "Средний Fare по группам:\n",
      " Survived\n",
      "0    22.117887\n",
      "1    48.395408\n",
      "Name: Fare, dtype: float64\n",
      "Вероятность выживания по классам:\n",
      " Pclass\n",
      "1    0.629630\n",
      "2    0.472826\n",
      "3    0.242363\n",
      "Name: Survived, dtype: float64\n"
     ]
    },
    {
     "data": {
      "text/plain": [
       "<Figure size 800x400 with 1 Axes>"
      ],
      "image/png": "[encoded data removed]"
     },
     "metadata": {},
     "output_type": "display_data"
    }
   ],
   "execution_count": 52
  },
  {
   "cell_type": "markdown",
   "metadata": {
    "id": "iQ3Q-4AMZKgk"
   },
   "source": [
    "### 12"
   ]
  },
  {
   "cell_type": "markdown",
   "metadata": {
    "id": "brZ1VUheZKgk"
   },
   "source": [
    "Creating new features (feature engineering) is one of the main means of improving the quality of machine learning algorithms at the data processing stage, and is also a great way to improve the quality of your conclusions from your analysis in general! Add a column to the table that will show how many relatives sailed with the passenger on the ship, including himself. How can such feature be useful?"
   ]
  },
  {
   "cell_type": "code",
   "metadata": {
    "collapsed": true,
    "id": "IUpwi7PmZKgk",
    "ExecuteTime": {
     "end_time": "2025-02-28T14:04:43.063710Z",
     "start_time": "2025-02-28T14:04:43.054262Z"
    }
   },
   "source": [
    "df['Relatives'] = df['SibSp'] + df['Parch'] + 1\n",
    "df['Relatives'].head()\n",
    "# Данный параметр можно использовать при определении выживаемости пассажира – как помощь родственников влияет на выживаемость"
   ],
   "outputs": [
    {
     "data": {
      "text/plain": [
       "0    2\n",
       "1    2\n",
       "2    1\n",
       "3    2\n",
       "4    1\n",
       "Name: Relatives, dtype: int64"
      ]
     },
     "execution_count": 57,
     "metadata": {},
     "output_type": "execute_result"
    }
   ],
   "execution_count": 57
  },
  {
   "cell_type": "markdown",
   "metadata": {
    "id": "0oQGh1-qJd3x"
   },
   "source": [
    "### 13"
   ]
  },
  {
   "cell_type": "markdown",
   "metadata": {
    "id": "0cF7OwH8Jd3x"
   },
   "source": [
    "Now come up with your own feature that can be useful for analysis (carries some information), and add it to the table. Be sure to give reasons why your feature is useful."
   ]
  },
  {
   "cell_type": "code",
   "metadata": {
    "collapsed": true,
    "id": "xZ4zS5qzJd3x",
    "ExecuteTime": {
     "end_time": "2025-02-28T14:05:47.052910Z",
     "start_time": "2025-02-28T14:05:47.025881Z"
    }
   },
   "source": [
    "df['IsMinor'] = np.where(df['Age'] < 18, 1, 0)\n",
    "df['IsMinor'].head()\n",
    "# Доп параметр, который может помочь понять выживаемость в отношении возраста пассажира"
   ],
   "outputs": [
    {
     "data": {
      "text/plain": [
       "0    0\n",
       "1    0\n",
       "2    0\n",
       "3    0\n",
       "4    0\n",
       "Name: IsMinor, dtype: int64"
      ]
     },
     "execution_count": 59,
     "metadata": {},
     "output_type": "execute_result"
    }
   ],
   "execution_count": 59
  },
  {
   "cell_type": "markdown",
   "metadata": {
    "id": "v3DjKVAlZKgk"
   },
   "source": [
    "### 14"
   ]
  },
  {
   "cell_type": "markdown",
   "metadata": {
    "id": "CJrnBovsZKgk"
   },
   "source": [
    "Come up with some interesting task to analyze the proposed data and solve it.\n",
    "\n",
    "Creativity is appreciated in this task and may earn you 1-2 bonus points!\n",
    "\n",
    "*Clue. For example, what was the most popular surname on the ship? (It’s better not to use this example, so come up with something of your own)*"
   ]
  },
  {
   "cell_type": "code",
   "metadata": {
    "collapsed": true,
    "id": "-7TpyG0RZKgl",
    "ExecuteTime": {
     "end_time": "2025-02-28T14:21:57.009780Z",
     "start_time": "2025-02-28T14:21:56.895877Z"
    }
   },
   "source": [
    "# Создадим новую колонку AgeGroup на основе столбца Age\n",
    "# Определим подгруппы для возрастных групп: дети 0–12, подростки 12–18, взрослые 18–60 и пожилые 60+\n",
    "df = pd.read_csv(\"./train.csv\") # Допом тк колонки ранее потер без копии\n",
    "bins = [0, 12, 18, 60, 120]\n",
    "labels = ['Child', 'Teen', 'Adult', 'Senior']\n",
    "df['AgeGroup'] = pd.cut(df['Age'], bins=bins, labels=labels, right=False)\n",
    "\n",
    "# Группируем данные по возрастной группе и полу, затем рассчитываем среднюю выживаемость для каждой группы\n",
    "survival_by_age_sex = df.groupby(['AgeGroup', 'Sex'])['Survived'].mean().reset_index()\n",
    "print(\"Выживаемость по возрастным группам и полу:\")\n",
    "print(survival_by_age_sex)\n",
    "\n",
    "plt.figure(figsize=(8, 4))\n",
    "sns.barplot(x='AgeGroup', y='Survived', hue='Sex', data=survival_by_age_sex, palette='pastel')\n",
    "plt.title(\"Выживаемость по возрастным группам и полу\")\n",
    "plt.xlabel(\"Возрастная группа\")\n",
    "plt.ylabel(\"Доля выживших\")\n",
    "plt.show()"
   ],
   "outputs": [
    {
     "name": "stdout",
     "output_type": "stream",
     "text": [
      "Выживаемость по возрастным группам и полу:\n",
      "  AgeGroup     Sex  Survived\n",
      "0    Child  female  0.593750\n",
      "1    Child    male  0.555556\n",
      "2     Teen  female  0.826087\n",
      "3     Teen    male  0.136364\n",
      "4    Adult  female  0.767327\n",
      "5    Adult    male  0.179625\n",
      "6   Senior  female  1.000000\n",
      "7   Senior    male  0.136364\n"
     ]
    },
    {
     "name": "stderr",
     "output_type": "stream",
     "text": [
      "/var/folders/kk/2t7q31r53hz60_94_r8w7sh00000gn/T/ipykernel_14709/1218679681.py:9: FutureWarning: The default of observed=False is deprecated and will be changed to True in a future version of pandas. Pass observed=False to retain current behavior or observed=True to adopt the future default and silence this warning.\n",
      "  survival_by_age_sex = df.groupby(['AgeGroup', 'Sex'])['Survived'].mean().reset_index()\n"
     ]
    },
    {
     "data": {
      "text/plain": [
       "<Figure size 800x400 with 1 Axes>"
      ],
      "image/png": "[encoded data removed]"
     },
     "metadata": {},
     "output_type": "display_data"
    }
   ],
   "execution_count": 75
  },
  {
   "cell_type": "markdown",
   "metadata": {
    "id": "_OotyU0HZKgl"
   },
   "source": [
    "### 15"
   ]
  },
  {
   "cell_type": "markdown",
   "metadata": {
    "id": "_AKVG-9VZKgl"
   },
   "source": [
    "Construct histograms of the distribution of **numerical** features. Is there any difference between them? How could this be bad from a data analytics perspective and from a machine learning perspective? Normalize the numerical features and see how the situation has changed. What conclusions can be drawn from this?\n",
    "\n",
    "The depth of answering the theoretical questions in this assignment is appreciated and may earn you 1-2 bonus points!"
   ]
  },
  {
   "cell_type": "code",
   "metadata": {
    "collapsed": true,
    "id": "J3KEuS8pZKgl",
    "ExecuteTime": {
     "end_time": "2025-02-28T14:20:57.029524Z",
     "start_time": "2025-02-28T14:20:56.696199Z"
    }
   },
   "source": [
    "numerical_features = ['Age', 'Fare', 'Relatives']\n",
    "df[numerical_features].hist(bins=20, figsize=(12, 4))\n",
    "plt.suptitle(\"Гистограммы исходных числовых признаков\")\n",
    "plt.show()\n",
    "\n",
    "# Нормализуем признаки\n",
    "df_normalized = df.copy()\n",
    "for col in numerical_features:\n",
    "    df_normalized[col] = (df_normalized[col] - df_normalized[col].min()) / (df_normalized[col].max() - df_normalized[col].min())\n",
    "\n",
    "# И делаем гистограмму\n",
    "df_normalized[numerical_features].hist(bins=20, figsize=(12, 4))\n",
    "plt.suptitle(\"Гистограммы нормализованных числовых признаков\")\n",
    "plt.show()\n",
    "\n",
    "# На сколько знаю, то нормализовнные данные помогают большинству мл алгоритмов тк они приводят данные к одному масштабу"
   ],
   "outputs": [
    {
     "data": {
      "text/plain": [
       "<Figure size 1200x400 with 4 Axes>"
      ],
      "image/png": "[encoded data removed]"
     },
     "metadata": {},
     "output_type": "display_data"
    },
    {
     "data": {
      "text/plain": [
       "<Figure size 1200x400 with 4 Axes>"
      ],
      "image/png": "[encoded data removed]"
     },
     "metadata": {},
     "output_type": "display_data"
    }
   ],
   "execution_count": 71
  },
  {
   "cell_type": "markdown",
   "metadata": {
    "id": "XlDxz7oNZKgl"
   },
   "source": [
    "### 16"
   ]
  },
  {
   "cell_type": "markdown",
   "metadata": {
    "id": "cWu51pYuZKgm"
   },
   "source": [
    "Are there any categorical features in the data that take string values ​​rather than numbers? If so, this could be a serious problem for many algorithms, so encode the categorical features so that any algorithm can be applied to the data."
   ]
  },
  {
   "cell_type": "code",
   "metadata": {
    "collapsed": true,
    "id": "KlP_Pz31ZKgm",
    "ExecuteTime": {
     "end_time": "2025-02-28T14:15:36.290576Z",
     "start_time": "2025-02-28T14:15:36.269555Z"
    }
   },
   "source": [
    "df_encoded = pd.read_csv(\"./train.csv\") # Надо было копии делать, а то колонки стер ранее, а уже прям времени нет....\n",
    "df_encoded = pd.get_dummies(df_encoded, columns=['Sex', 'Embarked'], drop_first=True)\n",
    "print(\"Первые строки данных после кодирования категориальных признаков:\")\n",
    "df_encoded.head()"
   ],
   "outputs": [
    {
     "name": "stdout",
     "output_type": "stream",
     "text": [
      "Первые строки данных после кодирования категориальных признаков:\n"
     ]
    },
    {
     "data": {
      "text/plain": [
       "   PassengerId  Survived  Pclass  \\\n",
       "0            1         0       3   \n",
       "1            2         1       1   \n",
       "2            3         1       3   \n",
       "3            4         1       1   \n",
       "4            5         0       3   \n",
       "\n",
       "                                                Name   Age  SibSp  Parch  \\\n",
       "0                            Braund, Mr. Owen Harris  22.0      1      0   \n",
       "1  Cumings, Mrs. John Bradley (Florence Briggs Th...  38.0      1      0   \n",
       "2                             Heikkinen, Miss. Laina  26.0      0      0   \n",
       "3       Futrelle, Mrs. Jacques Heath (Lily May Peel)  35.0      1      0   \n",
       "4                           Allen, Mr. William Henry  35.0      0      0   \n",
       "\n",
       "             Ticket     Fare Cabin  Sex_male  Embarked_Q  Embarked_S  \n",
       "0         A/5 21171   7.2500   NaN      True       False        True  \n",
       "1          PC 17599  71.2833   C85     False       False       False  \n",
       "2  STON/O2. 3101282   7.9250   NaN     False       False        True  \n",
       "3            113803  53.1000  C123     False       False        True  \n",
       "4            373450   8.0500   NaN      True       False        True  "
      ],
      "text/html": [
       "<div>\n",
       "<style scoped>\n",
       "    .dataframe tbody tr th:only-of-type {\n",
       "        vertical-align: middle;\n",
       "    }\n",
       "\n",
       "    .dataframe tbody tr th {\n",
       "        vertical-align: top;\n",
       "    }\n",
       "\n",
       "    .dataframe thead th {\n",
       "        text-align: right;\n",
       "    }\n",
       "</style>\n",
       "<table border=\"1\" class=\"dataframe\">\n",
       "  <thead>\n",
       "    <tr style=\"text-align: right;\">\n",
       "      <th></th>\n",
       "      <th>PassengerId</th>\n",
       "      <th>Survived</th>\n",
       "      <th>Pclass</th>\n",
       "      <th>Name</th>\n",
       "      <th>Age</th>\n",
       "      <th>SibSp</th>\n",
       "      <th>Parch</th>\n",
       "      <th>Ticket</th>\n",
       "      <th>Fare</th>\n",
       "      <th>Cabin</th>\n",
       "      <th>Sex_male</th>\n",
       "      <th>Embarked_Q</th>\n",
       "      <th>Embarked_S</th>\n",
       "    </tr>\n",
       "  </thead>\n",
       "  <tbody>\n",
       "    <tr>\n",
       "      <th>0</th>\n",
       "      <td>1</td>\n",
       "      <td>0</td>\n",
       "      <td>3</td>\n",
       "      <td>Braund, Mr. Owen Harris</td>\n",
       "      <td>22.0</td>\n",
       "      <td>1</td>\n",
       "      <td>0</td>\n",
       "      <td>A/5 21171</td>\n",
       "      <td>7.2500</td>\n",
       "      <td>NaN</td>\n",
       "      <td>True</td>\n",
       "      <td>False</td>\n",
       "      <td>True</td>\n",
       "    </tr>\n",
       "    <tr>\n",
       "      <th>1</th>\n",
       "      <td>2</td>\n",
       "      <td>1</td>\n",
       "      <td>1</td>\n",
       "      <td>Cumings, Mrs. John Bradley (Florence Briggs Th...</td>\n",
       "      <td>38.0</td>\n",
       "      <td>1</td>\n",
       "      <td>0</td>\n",
       "      <td>PC 17599</td>\n",
       "      <td>71.2833</td>\n",
       "      <td>C85</td>\n",
       "      <td>False</td>\n",
       "      <td>False</td>\n",
       "      <td>False</td>\n",
       "    </tr>\n",
       "    <tr>\n",
       "      <th>2</th>\n",
       "      <td>3</td>\n",
       "      <td>1</td>\n",
       "      <td>3</td>\n",
       "      <td>Heikkinen, Miss. Laina</td>\n",
       "      <td>26.0</td>\n",
       "      <td>0</td>\n",
       "      <td>0</td>\n",
       "      <td>STON/O2. 3101282</td>\n",
       "      <td>7.9250</td>\n",
       "      <td>NaN</td>\n",
       "      <td>False</td>\n",
       "      <td>False</td>\n",
       "      <td>True</td>\n",
       "    </tr>\n",
       "    <tr>\n",
       "      <th>3</th>\n",
       "      <td>4</td>\n",
       "      <td>1</td>\n",
       "      <td>1</td>\n",
       "      <td>Futrelle, Mrs. Jacques Heath (Lily May Peel)</td>\n",
       "      <td>35.0</td>\n",
       "      <td>1</td>\n",
       "      <td>0</td>\n",
       "      <td>113803</td>\n",
       "      <td>53.1000</td>\n",
       "      <td>C123</td>\n",
       "      <td>False</td>\n",
       "      <td>False</td>\n",
       "      <td>True</td>\n",
       "    </tr>\n",
       "    <tr>\n",
       "      <th>4</th>\n",
       "      <td>5</td>\n",
       "      <td>0</td>\n",
       "      <td>3</td>\n",
       "      <td>Allen, Mr. William Henry</td>\n",
       "      <td>35.0</td>\n",
       "      <td>0</td>\n",
       "      <td>0</td>\n",
       "      <td>373450</td>\n",
       "      <td>8.0500</td>\n",
       "      <td>NaN</td>\n",
       "      <td>True</td>\n",
       "      <td>False</td>\n",
       "      <td>True</td>\n",
       "    </tr>\n",
       "  </tbody>\n",
       "</table>\n",
       "</div>"
      ]
     },
     "execution_count": 70,
     "metadata": {},
     "output_type": "execute_result"
    }
   ],
   "execution_count": 70
  },
  {
   "cell_type": "markdown",
   "metadata": {
    "id": "rGRobnalZKgm"
   },
   "source": [
    "## Bonus part for machine learning (up to 5 bonus points)"
   ]
  },
  {
   "cell_type": "markdown",
   "metadata": {
    "id": "RmEQBtkJZKgm"
   },
   "source": [
    "### 17\n",
    "\n",
    "Solve the binary classification problem of predicting the survival of a passenger (the target variable $y$ is the Survived column; the task is for each object (passenger), from its feature space (remaining columns) to predict whether he will survive or not based on available data).\n",
    "\n",
    "In order to do this, separate the target variable ''Survived'' from the training sample and train some machine learning algorithm for classification on them (for beginners, we can recommend reading about perhaps the simplest and most understandable algorithm for initial development - kNN) . Using the algorithm you have chosen and trained, then build a prediction on the test set, having previously processed it in the same way as the training one."
   ]
  },
  {
   "cell_type": "code",
   "execution_count": null,
   "metadata": {
    "collapsed": true,
    "id": "hbkcHR3bZKgm"
   },
   "outputs": [],
   "source": [
    "# Честно времени и сил на это нету, но я оставлю ссылки на свои ранее сделанные работы на kaggle для titanic и spaceship titanic датасетов. Надеюсь это считается.\n",
    "# https://www.kaggle.com/code/nicklitwinow/titanic-max-accuracy-0-77033\n",
    "# https://www.kaggle.com/code/nicklitwinow/spaceship-titanic-max-accuracy-0-80102"
   ]
  },
  {
   "cell_type": "markdown",
   "metadata": {
    "id": "YAI_-z1GZKgm"
   },
   "source": [
    "Based on the data you worked with, a competition was created on Kaggle, aimed at aspiring Data Scientists: https://www.kaggle.com/c/titanic. You are invited to participate in it - if you have reached this point, then there is absolutely nothing left for this. Register on Kaggle and accept the competition rules. If you already have an answer for the test sample that you want to send for evaluation and get into the leaderboard, you need to add it to the .csv file and format it as necessary. To do this, in the data tab (https://www.kaggle.com/c/titanic/data) there is an example of what this file should look like (“gender_submission.csv”). You can download and study it. For your convenience, below is the code that allows you to generate a file for sending."
   ]
  },
  {
   "cell_type": "code",
   "execution_count": null,
   "metadata": {
    "collapsed": true,
    "id": "fTy9dXrXZKgm"
   },
   "outputs": [],
   "source": [
    "subm = pd.read_csv('gender_submission.csv')\n",
    "subm['Survived'] = prediction_test"
   ]
  },
  {
   "cell_type": "code",
   "execution_count": null,
   "metadata": {
    "collapsed": true,
    "id": "ZKiUaikeZKgm"
   },
   "outputs": [],
   "source": [
    "subm.to_csv('test_subm_proba.csv', index=False)"
   ]
  },
  {
   "cell_type": "markdown",
   "metadata": {
    "id": "E-HmXOBZZKgn"
   },
   "source": [
    "Submit the file for measurement using the “Submit Predictions” button. The metric used in competitions is accuracy. What was the result? Try to improve it! For example, select the form of features that would be most useful for prediction (feature selection) or create new features (feature generation)."
   ]
  },
  {
   "cell_type": "markdown",
   "source": [
    "### Important!\n",
    "\n",
    "You can find a lot of useful information on this additional task in https://www.kaggle.com/c/titanic/kernels and https://www.kaggle.com/c/titanic/discussion!\n",
    "\n",
    "But do not plagiarize the code from there"
   ],
   "metadata": {
    "id": "UMiAKN_xPf-E"
   }
  }
 ]
}
